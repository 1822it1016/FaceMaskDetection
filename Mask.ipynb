{
 "cells": [
  {
   "cell_type": "code",
   "execution_count": 1,
   "metadata": {},
   "outputs": [],
   "source": [
    "import cv2,os\n",
    "import numpy as np\n",
    "from keras.utils import np_utils\n",
    "from keras.models import Sequential\n",
    "from keras.layers import  Dense, Activation, Dropout, Conv2D, Flatten, MaxPooling2D\n",
    "from keras.callbacks import ModelCheckpoint\n",
    "from sklearn.model_selection import train_test_split\n",
    "from matplotlib import pyplot as plt\n",
    "from keras.models import load_model"
   ]
  },
  {
   "cell_type": "code",
   "execution_count": 2,
   "metadata": {},
   "outputs": [
    {
     "name": "stdout",
     "output_type": "stream",
     "text": [
      "{'without_mask': 0, 'with_mask': 1}\n",
      "['without_mask', 'with_mask']\n",
      "[0, 1]\n"
     ]
    }
   ],
   "source": [
    "data_path = r'C:\\Users\\Vikash Kumar\\Desktop\\Deep Learning\\Dataset'\n",
    "categories = os.listdir(data_path)\n",
    "labels = [i for i in range(len(categories))]\n",
    "label_dict = dict(zip(categories,labels))\n",
    "print(label_dict)\n",
    "print(categories)\n",
    "print(labels)"
   ]
  },
  {
   "cell_type": "code",
   "execution_count": 3,
   "metadata": {},
   "outputs": [],
   "source": [
    "img_size = 150\n",
    "data = []\n",
    "target = []\n",
    "for category in categories:\n",
    "    folder_path = os.path.join(data_path,category) \n",
    "    img_names = os.listdir(folder_path)\n",
    "    \n",
    "    for img_name in img_names:\n",
    "        img_path = os.path.join(folder_path,img_name)\n",
    "        img = cv2.imread(img_path)\n",
    "        try:\n",
    "            gray = cv2.cvtColor(img,cv2.COLOR_BGR2GRAY)\n",
    "            resized = cv2.resize(gray,(img_size,img_size))\n",
    "            data.append(resized)\n",
    "            target.append(label_dict[category])\n",
    "        \n",
    "        except Exception as e:\n",
    "            print(\"Exception: \",e)"
   ]
  },
  {
   "cell_type": "code",
   "execution_count": 4,
   "metadata": {},
   "outputs": [],
   "source": [
    "data = np.array(data)/255.0\n",
    "data = np.reshape(data,(data.shape[0],img_size,img_size,1))\n",
    "target = np.array(target)\n",
    "new_target = np_utils.to_categorical(target)\n",
    "np.save('data',data)\n",
    "np.save('target',new_target)"
   ]
  },
  {
   "cell_type": "code",
   "execution_count": 5,
   "metadata": {
    "scrolled": true
   },
   "outputs": [
    {
     "name": "stdout",
     "output_type": "stream",
     "text": [
      "Model: \"sequential\"\n",
      "_________________________________________________________________\n",
      "Layer (type)                 Output Shape              Param #   \n",
      "=================================================================\n",
      "conv2d (Conv2D)              (None, 148, 148, 200)     2000      \n",
      "_________________________________________________________________\n",
      "activation (Activation)      (None, 148, 148, 200)     0         \n",
      "_________________________________________________________________\n",
      "max_pooling2d (MaxPooling2D) (None, 74, 74, 200)       0         \n",
      "_________________________________________________________________\n",
      "conv2d_1 (Conv2D)            (None, 72, 72, 100)       180100    \n",
      "_________________________________________________________________\n",
      "activation_1 (Activation)    (None, 72, 72, 100)       0         \n",
      "_________________________________________________________________\n",
      "max_pooling2d_1 (MaxPooling2 (None, 36, 36, 100)       0         \n",
      "_________________________________________________________________\n",
      "flatten (Flatten)            (None, 129600)            0         \n",
      "_________________________________________________________________\n",
      "dropout (Dropout)            (None, 129600)            0         \n",
      "_________________________________________________________________\n",
      "dense (Dense)                (None, 50)                6480050   \n",
      "_________________________________________________________________\n",
      "dense_1 (Dense)              (None, 2)                 102       \n",
      "=================================================================\n",
      "Total params: 6,662,252\n",
      "Trainable params: 6,662,252\n",
      "Non-trainable params: 0\n",
      "_________________________________________________________________\n"
     ]
    }
   ],
   "source": [
    "data = np.load('data.npy')\n",
    "target = np.load('target.npy')\n",
    "model = Sequential()\n",
    "model.add(Conv2D(200,(3,3),input_shape=data.shape[1:]))\n",
    "model.add(Activation('relu'))\n",
    "model.add(MaxPooling2D(pool_size=(2,2)))\n",
    "model.add(Conv2D(100,(3,3)))\n",
    "model.add(Activation('relu'))\n",
    "model.add(MaxPooling2D(pool_size=(2,2)))\n",
    "model.add(Flatten())\n",
    "model.add(Dropout(0.5))\n",
    "model.add(Dense(50,activation='relu'))\n",
    "model.add(Dense(2,activation='softmax'))\n",
    "model.compile(optimizer='adam', loss='categorical_crossentropy', metrics = ['acc'])\n",
    "model.summary()"
   ]
  },
  {
   "cell_type": "code",
   "execution_count": 6,
   "metadata": {},
   "outputs": [],
   "source": [
    "train_data, test_data, train_target, test_target = train_test_split(data, target, test_size=0.1)\n"
   ]
  },
  {
   "cell_type": "code",
   "execution_count": 7,
   "metadata": {},
   "outputs": [
    {
     "name": "stdout",
     "output_type": "stream",
     "text": [
      "Epoch 1/20\n",
      "31/31 [==============================] - ETA: 0s - loss: 0.8758 - acc: 0.4919WARNING:tensorflow:From c:\\users\\vikash kumar\\appdata\\local\\programs\\python\\python38\\lib\\site-packages\\tensorflow\\python\\training\\tracking\\tracking.py:111: Model.state_updates (from tensorflow.python.keras.engine.training) is deprecated and will be removed in a future version.\n",
      "Instructions for updating:\n",
      "This property should not be used in TensorFlow 2.0, as updates are applied automatically.\n",
      "WARNING:tensorflow:From c:\\users\\vikash kumar\\appdata\\local\\programs\\python\\python38\\lib\\site-packages\\tensorflow\\python\\training\\tracking\\tracking.py:111: Layer.updates (from tensorflow.python.keras.engine.base_layer) is deprecated and will be removed in a future version.\n",
      "Instructions for updating:\n",
      "This property should not be used in TensorFlow 2.0, as updates are applied automatically.\n",
      "INFO:tensorflow:Assets written to: model-001.model\\assets\n",
      "31/31 [==============================] - 97s 3s/step - loss: 0.8758 - acc: 0.4919 - val_loss: 0.6923 - val_acc: 0.5927\n",
      "Epoch 2/20\n",
      "31/31 [==============================] - ETA: 0s - loss: 0.6820 - acc: 0.6374INFO:tensorflow:Assets written to: model-002.model\\assets\n",
      "31/31 [==============================] - 98s 3s/step - loss: 0.6820 - acc: 0.6374 - val_loss: 0.6165 - val_acc: 0.6855\n",
      "Epoch 3/20\n",
      "31/31 [==============================] - ETA: 0s - loss: 0.5790 - acc: 0.6980INFO:tensorflow:Assets written to: model-003.model\\assets\n",
      "31/31 [==============================] - 88s 3s/step - loss: 0.5790 - acc: 0.6980 - val_loss: 0.5037 - val_acc: 0.7742\n",
      "Epoch 4/20\n",
      "31/31 [==============================] - ETA: 0s - loss: 0.4398 - acc: 0.8162INFO:tensorflow:Assets written to: model-004.model\\assets\n",
      "31/31 [==============================] - 90s 3s/step - loss: 0.4398 - acc: 0.8162 - val_loss: 0.4018 - val_acc: 0.8145\n",
      "Epoch 5/20\n",
      "31/31 [==============================] - ETA: 0s - loss: 0.3397 - acc: 0.8556INFO:tensorflow:Assets written to: model-005.model\\assets\n",
      "31/31 [==============================] - 90s 3s/step - loss: 0.3397 - acc: 0.8556 - val_loss: 0.3665 - val_acc: 0.8468\n",
      "Epoch 6/20\n",
      "31/31 [==============================] - ETA: 0s - loss: 0.2844 - acc: 0.8848INFO:tensorflow:Assets written to: model-006.model\\assets\n",
      "31/31 [==============================] - 90s 3s/step - loss: 0.2844 - acc: 0.8848 - val_loss: 0.3178 - val_acc: 0.8629\n",
      "Epoch 7/20\n",
      "31/31 [==============================] - ETA: 0s - loss: 0.2358 - acc: 0.9061INFO:tensorflow:Assets written to: model-007.model\\assets\n",
      "31/31 [==============================] - 89s 3s/step - loss: 0.2358 - acc: 0.9061 - val_loss: 0.2331 - val_acc: 0.9073\n",
      "Epoch 8/20\n",
      "31/31 [==============================] - ETA: 0s - loss: 0.1711 - acc: 0.9434INFO:tensorflow:Assets written to: model-008.model\\assets\n",
      "31/31 [==============================] - 89s 3s/step - loss: 0.1711 - acc: 0.9434 - val_loss: 0.1949 - val_acc: 0.9234\n",
      "Epoch 9/20\n",
      "31/31 [==============================] - 86s 3s/step - loss: 0.1806 - acc: 0.9364 - val_loss: 0.2101 - val_acc: 0.9395\n",
      "Epoch 10/20\n",
      "31/31 [==============================] - ETA: 0s - loss: 0.1298 - acc: 0.9515INFO:tensorflow:Assets written to: model-010.model\\assets\n",
      "31/31 [==============================] - 96s 3s/step - loss: 0.1298 - acc: 0.9515 - val_loss: 0.1753 - val_acc: 0.9435\n",
      "Epoch 11/20\n",
      "31/31 [==============================] - 96s 3s/step - loss: 0.0942 - acc: 0.9707 - val_loss: 0.1790 - val_acc: 0.9435\n",
      "Epoch 12/20\n",
      "31/31 [==============================] - 91s 3s/step - loss: 0.1166 - acc: 0.9646 - val_loss: 0.2457 - val_acc: 0.9355\n",
      "Epoch 13/20\n",
      "31/31 [==============================] - 95s 3s/step - loss: 0.0755 - acc: 0.9687 - val_loss: 0.2488 - val_acc: 0.9395\n",
      "Epoch 14/20\n",
      "31/31 [==============================] - ETA: 0s - loss: 0.0783 - acc: 0.9747INFO:tensorflow:Assets written to: model-014.model\\assets\n",
      "31/31 [==============================] - 95s 3s/step - loss: 0.0783 - acc: 0.9747 - val_loss: 0.1706 - val_acc: 0.9516\n",
      "Epoch 15/20\n",
      "31/31 [==============================] - 87s 3s/step - loss: 0.0656 - acc: 0.9758 - val_loss: 0.1822 - val_acc: 0.9556\n",
      "Epoch 16/20\n",
      "31/31 [==============================] - 88s 3s/step - loss: 0.0550 - acc: 0.9808 - val_loss: 0.1990 - val_acc: 0.9516\n",
      "Epoch 17/20\n",
      "31/31 [==============================] - 88s 3s/step - loss: 0.0464 - acc: 0.9838 - val_loss: 0.2083 - val_acc: 0.9435\n",
      "Epoch 18/20\n",
      "31/31 [==============================] - 88s 3s/step - loss: 0.0386 - acc: 0.9879 - val_loss: 0.2127 - val_acc: 0.9516\n",
      "Epoch 19/20\n",
      "31/31 [==============================] - 88s 3s/step - loss: 0.0369 - acc: 0.9879 - val_loss: 0.2224 - val_acc: 0.9476\n",
      "Epoch 20/20\n",
      "31/31 [==============================] - 87s 3s/step - loss: 0.0519 - acc: 0.9798 - val_loss: 0.2219 - val_acc: 0.9556\n"
     ]
    }
   ],
   "source": [
    "checkpoint=ModelCheckpoint('model-{epoch:03d}.model', monitor='val_loss', verbose = 0, save_best_only = True,mode='auto')\n",
    "history = model.fit(train_data,train_target,epochs = 20, callbacks = [checkpoint], validation_split = 0.2)"
   ]
  },
  {
   "cell_type": "code",
   "execution_count": 8,
   "metadata": {},
   "outputs": [
    {
     "data": {
      "image/png": "[encoded data removed]",
      "text/plain": [
       "<Figure size 432x288 with 1 Axes>"
      ]
     },
     "metadata": {
      "needs_background": "light"
     },
     "output_type": "display_data"
    },
    {
     "data": {
      "image/png": "[encoded data removed]",
      "text/plain": [
       "<Figure size 432x288 with 1 Axes>"
      ]
     },
     "metadata": {
      "needs_background": "light"
     },
     "output_type": "display_data"
    }
   ],
   "source": [
    "plt.plot(history.history['acc'],'r',label='training accuracy')\n",
    "plt.plot(history.history['val_acc'],'b',label='validation accuracy')\n",
    "plt.xlabel('epochs')\n",
    "plt.ylabel('accuracy')\n",
    "plt.legend()\n",
    "plt.show()\n",
    "plt.plot(history.history['loss'],'r',label='training loss')\n",
    "plt.plot(history.history['val_loss'],'b',label='validation loss')\n",
    "plt.xlabel('epochs')\n",
    "plt.ylabel('loss')\n",
    "plt.legend()\n",
    "plt.show()"
   ]
  },
  {
   "cell_type": "code",
   "execution_count": 9,
   "metadata": {},
   "outputs": [
    {
     "name": "stdout",
     "output_type": "stream",
     "text": [
      "5/5 [==============================] - 3s 537ms/step - loss: 0.1761 - acc: 0.9710\n",
      "[0.17613959312438965, 0.9710144996643066]\n"
     ]
    }
   ],
   "source": [
    "print(model.evaluate(test_data,test_target))\n"
   ]
  },
  {
   "cell_type": "code",
   "execution_count": 11,
   "metadata": {},
   "outputs": [],
   "source": [
    "#model = load_model('model-020.model')\n",
    "faceCascade=cv2.CascadeClassifier(r'C:\\Users\\Vikash Kumar\\Desktop\\Deep Learning\\haarcascade_frontalface_default.xml')\n",
    "video_capture = cv2.VideoCapture(0)  \n",
    "labels_dict = {0:'NO MASK',1:'MASK'}\n",
    "color_dict  = { 0:(0,0,255),1:(0,255,0)}\n",
    "img_size = 150\n"
   ]
  },
  {
   "cell_type": "code",
   "execution_count": null,
   "metadata": {},
   "outputs": [],
   "source": [
    "while(True):\n",
    "    ret,frame = video_capture.read()\n",
    "    gray = cv2.cvtColor(frame,cv2.COLOR_BGR2GRAY)\n",
    "    faces = faceCascade.detectMultiScale(gray,1.3,5)\n",
    "    \n",
    "    for x,y,w,h in faces:\n",
    "        face_img = gray[y:y+w,x:x+h]\n",
    "        resized = cv2.resize(face_img,(img_size,img_size))\n",
    "        normalized = resized/255.0\n",
    "        reshaped = np.reshape(normalized,(1,img_size,img_size,1))\n",
    "        result = model.predict(reshaped)\n",
    "        \n",
    "        label = np.argmax(result,axis=1)[0]\n",
    "        cv2.rectangle(frame,(x,y),(x+w,y+h),color_dict[label],2)\n",
    "        cv2.putText(frame,labels_dict[label],(x,y-10),cv2.FONT_HERSHEY_SIMPLEX,0.8,(255,255,255),2)\n",
    "        \n",
    "    cv2.imshow('Video',frame)\n",
    "    key=cv2.waitKey(1)\n",
    "    \n",
    "    if(key==27):\n",
    "        break;\n",
    "        \n",
    "cv2.destroyAllWindows()\n",
    "video_capture.release()"
   ]
  },
  {
   "cell_type": "code",
   "execution_count": null,
   "metadata": {},
   "outputs": [],
   "source": []
  },
  {
   "cell_type": "code",
   "execution_count": null,
   "metadata": {},
   "outputs": [],
   "source": []
  },
  {
   "cell_type": "code",
   "execution_count": null,
   "metadata": {},
   "outputs": [],
   "source": []
  },
  {
   "cell_type": "code",
   "execution_count": null,
   "metadata": {},
   "outputs": [],
   "source": []
  }
 ],
 "metadata": {
  "kernelspec": {
   "display_name": "Python 3",
   "language": "python",
   "name": "python3"
  },
  "language_info": {
   "codemirror_mode": {
    "name": "ipython",
    "version": 3
   },
   "file_extension": ".py",
   "mimetype": "text/x-python",
   "name": "python",
   "nbconvert_exporter": "python",
   "pygments_lexer": "ipython3",
   "version": "3.8.0"
  }
 },
 "nbformat": 4,
 "nbformat_minor": 4
}
